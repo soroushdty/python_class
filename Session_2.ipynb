{
  "cells": [
    {
      "cell_type": "markdown",
      "metadata": {
        "id": "view-in-github",
        "colab_type": "text"
      },
      "source": [
        "<a href=\"https://colab.research.google.com/github/soroushdty/python_class/blob/main/Session_2.ipynb\" target=\"_parent\"><img src=\"https://colab.research.google.com/assets/colab-badge.svg\" alt=\"Open In Colab\"/></a>"
      ]
    },
    {
      "cell_type": "markdown",
      "metadata": {
        "id": "bpVFeaorTu7V"
      },
      "source": [
        "# Session 2\n",
        "\n",
        "## Table of contents\n",
        "* How to work with Jupyter notebook\n",
        "* Comments and why they are important\n",
        "* Python variables and data types\n",
        "* Introduction to input and print statements\n",
        "* Numeric operations\n",
        "* Deeper look into algorithms, conditions and loops"
      ]
    },
    {
      "cell_type": "markdown",
      "metadata": {
        "id": "Mvh3REaATu7s"
      },
      "source": [
        "### Part one: How to work with Jupyter notebook\n",
        "\n",
        "* No GUI of its own, runs on browser\n",
        "* When you first open Jupyter, a command prompt and your default browser pop up\n",
        "* Never close the command prompt window during your session!\n",
        "* Browser window will show the current working directory\n",
        "* You can check your directory by running %cd command\n",
        "* The default directory in MS Windows is C:/Users/YOUR_NAME\n",
        "* If you close your browser, you can reopen Jupyter by copy and pasting the address in your browser\n",
        "* Open a new notebook by clicking the new button in the upper left\n",
        "* You can also choose from exisiting notebooks\n",
        "* Running notebooks are shown in green and also in the running tab"
      ]
    },
    {
      "cell_type": "markdown",
      "metadata": {
        "id": "eBoyya3ITu7t"
      },
      "source": [
        "#### Cells\n",
        "Jupyter notebook is organised into cells<br>\n",
        "This is an example of an empty cell:"
      ]
    },
    {
      "cell_type": "code",
      "execution_count": null,
      "metadata": {
        "id": "uQc80OkkTu7z"
      },
      "outputs": [],
      "source": []
    },
    {
      "cell_type": "markdown",
      "metadata": {
        "id": "2bfsHhUmTu72"
      },
      "source": [
        "Cells can be run independently of each other<br>\n",
        "To select a cell, simply click on it<br>\n",
        "Press ctrl+enter or shift+enter to run the cell<br>\n",
        "The first command keeps you on the same cell while the second one moves you to the next cell<br>\n",
        "You can do the same thing from the Cell menu or the Run button\n",
        "You can also run all the cells at the same time"
      ]
    },
    {
      "cell_type": "markdown",
      "metadata": {
        "id": "-iDuCjgeTu74"
      },
      "source": [
        "Try finding the current working directory using the cell below:"
      ]
    },
    {
      "cell_type": "code",
      "execution_count": null,
      "metadata": {
        "scrolled": true,
        "id": "L48vU_kSTu74"
      },
      "outputs": [],
      "source": []
    },
    {
      "cell_type": "markdown",
      "metadata": {
        "id": "sayCH-PdTu75"
      },
      "source": [
        "#### Deleting Cell outputs\n",
        "You can delete a cell's output using Cell -> Current Outputs -> Clear<br>\n",
        "Try to delete the output of the cell above<br>\n",
        "You can delete all cell's outputs using Cell -> All Output -> Clear"
      ]
    },
    {
      "cell_type": "markdown",
      "metadata": {
        "id": "kduoVvwbTu76"
      },
      "source": [
        "#### Cell modes\n",
        "Each cell can have two modes: edit mode (green) and command mode (blue)<br>\n",
        "You write codes when in edit mode\n",
        "You can switch between these modes using Esc and Enter keys"
      ]
    },
    {
      "cell_type": "markdown",
      "metadata": {
        "id": "VUqNYhDpTu78"
      },
      "source": [
        "#### Inserting Cells\n",
        "You can insert cells using a (above) or b (below) when in command mode.<br> Try doing that now<br> You can also use the Insert menu"
      ]
    },
    {
      "cell_type": "markdown",
      "metadata": {
        "id": "6ZyjbkMETu79"
      },
      "source": [
        "#### Deleting Cells\n",
        "You can delete cells using double d when in command mode.<br>\n",
        "Try to delete those new cells that you just created<br>\n",
        "You can also use Edit -> Delete Cells"
      ]
    },
    {
      "cell_type": "markdown",
      "metadata": {
        "id": "j17984PYTu7-"
      },
      "source": [
        "#### Copying, Pasting and Cutting Cells\n",
        "You can cut, copy and paste using X, C and V when in command mode <br>\n",
        "Try copying and pasting this cell and cutting the result<br>\n",
        "Press Z to undo delete<br>\n",
        "You can also do these by using the Edit menu"
      ]
    },
    {
      "cell_type": "markdown",
      "metadata": {
        "id": "YPH1ebLUTu8N"
      },
      "source": [
        "#### Stopping and restarting the kernel\n",
        "You can stop your code from running using the stop button or Kernel -> Interrupt<br>\n",
        "Or you can press double I in command mode<br>\n",
        "You can restart the kernel using the restart button or Kernel -> Restart<br>\n",
        "You can also press double 0 when in command mode<br>\n",
        "You can also restart+clear all output or restart+run all cells using buttons and menus"
      ]
    },
    {
      "cell_type": "markdown",
      "metadata": {
        "id": "XVy5kipmTu8O"
      },
      "source": [
        "#### Finding and/or replacing code\n",
        "Edit -> Find and Replace is a powerful tool if you want to change something in all of your code"
      ]
    },
    {
      "cell_type": "markdown",
      "metadata": {
        "id": "GwRXQhURTu8P"
      },
      "source": [
        "#### The view menu\n",
        "You can toggle Header, Toolbar and Line Numbers using the View menu<br>\n",
        "I suggest using all three"
      ]
    },
    {
      "cell_type": "markdown",
      "metadata": {
        "id": "92hVQZzgTu8P"
      },
      "source": [
        "#### Renaming the notebook\n",
        "You can rename your notebook by clicking in the upper left corner or using File -> Rename"
      ]
    },
    {
      "cell_type": "markdown",
      "metadata": {
        "id": "MoekT1VATu8Q"
      },
      "source": [
        "#### File Menu\n",
        "New Notebook: Creates a new notebook<br>\n",
        "Open: Opens another notebook<br>\n",
        "Make a Copy: Creates a copy of the current notebook<br>\n",
        "Save and Checkpoint: Saves current notebook<br>\n",
        "Download as: download your notebook in different formats<br>\n",
        "Note that the format of a Jupyter notebook is .ipynb which is different that default Python format (.py)"
      ]
    },
    {
      "cell_type": "markdown",
      "metadata": {
        "id": "7bn_Q7YaTu8Q"
      },
      "source": [
        "### Part two: Comments and why they are important"
      ]
    },
    {
      "cell_type": "code",
      "execution_count": null,
      "metadata": {
        "id": "gQPaiwYXTu8Q"
      },
      "outputs": [],
      "source": [
        "# Use a hashtag in code mode to create a comment\n",
        "\n",
        "# Comments are not executed as part of the code\n",
        "\n",
        "# Comments clarify code for yourself and other people\n",
        "\n",
        "# Build up the habit of always commenting your code\n",
        "\n",
        "# As you get more advanced, you should stop commenting obvious commands to avoid cluttering\n",
        "\n",
        "# But for now, let's try to use comments as much as possible to build good coding habits\n",
        "\n",
        "# Comments have to be in one line\n",
        "\n",
        "# They can even be after code, called inline comment\n",
        "\n",
        "print('Hi')  # Prints the word Hi"
      ]
    },
    {
      "cell_type": "markdown",
      "metadata": {
        "id": "pauJ_JULTu8S"
      },
      "source": [
        "PEP (Python Enhancement Proposal) are guidelines for using Python efficiently.<br>\n",
        "[PEP 8](https://peps.python.org/pep-0008) deals with style guides for Python codes<br>\n",
        "Let's see what it says about comments (simplified version):\n",
        "* Ensure that your comments are clear and easily understandable.\n",
        "* Always update your comments when you change your code\n",
        "* Comments should be complete sentences starting with a space after # and a capitalized letter\n",
        "* Try to use inline comments sparsingly\n",
        "* Inline comments should be separated by at least two spaces from the statement\n"
      ]
    },
    {
      "cell_type": "markdown",
      "metadata": {
        "id": "tpviexnxTu8S"
      },
      "source": [
        "### Python variables and data types\n",
        "Most of the times, we need to save certain values to the memory<br>\n",
        "Think of a variable as a container that holds a value<br>\n",
        "To create a variable in Python, you need to \"assign\" a value to it<br>\n",
        "Using this syntax:  variable = value<br>\n",
        "The '=' sign here DOES NOT mean equal... it means assignment<br>"
      ]
    },
    {
      "cell_type": "code",
      "execution_count": null,
      "metadata": {
        "id": "E0Xky3W3Tu8T"
      },
      "outputs": [],
      "source": [
        "# This is a variable\n",
        "age = 20\n",
        "\n",
        "# This is also a variable\n",
        "name = 'John'\n",
        "\n",
        "# This is also a variable\n",
        "female = False\n",
        "\n",
        "# Run this cell to save these variables so we can use them later on"
      ]
    },
    {
      "cell_type": "code",
      "execution_count": null,
      "metadata": {
        "id": "41c8vV3nTu8T"
      },
      "outputs": [],
      "source": [
        "# As you can see, nothing happened\n",
        "# But in the background, you have saved these variables to the memory\n",
        "# You can check this by recalling these variables from the memory\n",
        "# Run the following three cells"
      ]
    },
    {
      "cell_type": "code",
      "execution_count": null,
      "metadata": {
        "id": "L5d2G34hTu8U"
      },
      "outputs": [],
      "source": [
        "age"
      ]
    },
    {
      "cell_type": "code",
      "execution_count": null,
      "metadata": {
        "id": "tQPm5zMcTu8U"
      },
      "outputs": [],
      "source": [
        "name"
      ]
    },
    {
      "cell_type": "code",
      "execution_count": null,
      "metadata": {
        "id": "2ZWWonp0Tu8V"
      },
      "outputs": [],
      "source": [
        "female"
      ]
    },
    {
      "cell_type": "markdown",
      "metadata": {
        "id": "zlkIqzJDTu8g"
      },
      "source": [
        "PEP 8 (and common sense) tells us to always use descriptive and meaningful names for our variables<br>\n",
        "So we say age = 12 and never a = 12, etc etc<br>\n",
        "* Variable names in Python can start with a letter or underline (this has special use-cases)<br>\n",
        "But they cannot start with numbers<br>\n",
        "* Variable name can only contain alpha-numeric characters and underscores (A-z, 0-9, and _ )\n",
        "* Variable names are case-sensitive (age, Age and AGE are three different variables)\n",
        "* There are also some names that Python uses for special purposes such as True, False, and, class, if, etc... <br>\n",
        "So we cannot use them as variable names. See the full list here: https://docs.python.org/3/reference/lexical_analysis.html#keywords <br>\n",
        "* PEP 8 suggests using all lower letters for variable names with underscores to separate words:<br>\n",
        "country_budget, social_security_number, etc etc\n",
        "* It also suggests putting one space on either side of the '=' sign for better readability:\n",
        "age = 20 and not age=20"
      ]
    },
    {
      "cell_type": "code",
      "execution_count": null,
      "metadata": {
        "id": "TYV10KMHTu8g"
      },
      "outputs": [],
      "source": [
        "# Now remember that a variable is just a container, so we can assign another value to it\n",
        "age = 25\n",
        "age"
      ]
    },
    {
      "cell_type": "markdown",
      "metadata": {
        "id": "WF5KLZdDTu8h"
      },
      "source": [
        "#### Variable Types\n",
        "There are several built-in variable types in python<br>\n",
        "We can use the type(variable) command to find the types of variables"
      ]
    },
    {
      "cell_type": "code",
      "execution_count": null,
      "metadata": {
        "id": "FvXmZaQnTu8i"
      },
      "outputs": [],
      "source": [
        "# This is int\n",
        "height = 180\n",
        "type(height)"
      ]
    },
    {
      "cell_type": "code",
      "execution_count": null,
      "metadata": {
        "id": "tgLofY-VTu8p"
      },
      "outputs": [],
      "source": [
        "# This is float\n",
        "gpa = 3.2\n",
        "type(gpa)"
      ]
    },
    {
      "cell_type": "code",
      "execution_count": null,
      "metadata": {
        "id": "mnlodlvTTu8s"
      },
      "outputs": [],
      "source": [
        "# This is also float\n",
        "weight = 70.\n",
        "type(weight)"
      ]
    },
    {
      "cell_type": "code",
      "execution_count": null,
      "metadata": {
        "id": "qKhAd4k1Tu8v"
      },
      "outputs": [],
      "source": [
        "# This is string\n",
        "country = 'England'\n",
        "type(country)"
      ]
    },
    {
      "cell_type": "code",
      "execution_count": null,
      "metadata": {
        "id": "KidE_sFBTu8v"
      },
      "outputs": [],
      "source": [
        "# This is bool\n",
        "graduated = True\n",
        "type(graduated)"
      ]
    },
    {
      "cell_type": "code",
      "execution_count": null,
      "metadata": {
        "id": "FSLmg3OfTu8w"
      },
      "outputs": [],
      "source": [
        "# There are also variable that are a collection of other variables\n",
        "# We are going to talk about these more in the future sessions\n",
        "\n",
        "# This is a list\n",
        "names = ['Max', 'Jane', 'Alice', 'Jacob']\n",
        "\n",
        "# This is a tuple\n",
        "coordinates = (12, 14)\n",
        "\n",
        "# This is a dictionary\n",
        "salaries = {'CEO':400000, 'Data Scientist':150000, 'Secretary':50000}\n",
        "\n",
        "#This is a set\n",
        "numbers = {1, 2, 3, 4, 5}"
      ]
    },
    {
      "cell_type": "markdown",
      "metadata": {
        "id": "RIMwOjMITu85"
      },
      "source": [
        "### Print and input statements"
      ]
    },
    {
      "cell_type": "markdown",
      "metadata": {
        "id": "I0Sj95IwTu85"
      },
      "source": [
        "We can use the print function to show the output of a variable on the screen"
      ]
    },
    {
      "cell_type": "code",
      "execution_count": null,
      "metadata": {
        "id": "RR_AMhr4Tu86"
      },
      "outputs": [],
      "source": [
        "print(height)"
      ]
    },
    {
      "cell_type": "code",
      "execution_count": null,
      "metadata": {
        "id": "heymJjmNTu86"
      },
      "outputs": [],
      "source": [
        "print(gpa)"
      ]
    },
    {
      "cell_type": "code",
      "execution_count": null,
      "metadata": {
        "id": "hk8HgZ-5Tu87"
      },
      "outputs": [],
      "source": [
        "print(weight)"
      ]
    },
    {
      "cell_type": "code",
      "execution_count": null,
      "metadata": {
        "id": "YuN8dt-UTu87"
      },
      "outputs": [],
      "source": [
        "print(country)"
      ]
    },
    {
      "cell_type": "code",
      "execution_count": null,
      "metadata": {
        "id": "9pVHJdG0Tu88"
      },
      "outputs": [],
      "source": [
        "print(graduated)"
      ]
    },
    {
      "cell_type": "code",
      "execution_count": null,
      "metadata": {
        "id": "YapC6vOuTu88"
      },
      "outputs": [],
      "source": [
        "print(names)"
      ]
    },
    {
      "cell_type": "code",
      "execution_count": null,
      "metadata": {
        "id": "TxoZIJ48Tu89"
      },
      "outputs": [],
      "source": [
        "print(coordinates)"
      ]
    },
    {
      "cell_type": "code",
      "execution_count": null,
      "metadata": {
        "id": "cH1khbAkTu89"
      },
      "outputs": [],
      "source": [
        "print(salaries)"
      ]
    },
    {
      "cell_type": "code",
      "execution_count": null,
      "metadata": {
        "id": "D9BpphkBTu89"
      },
      "outputs": [],
      "source": [
        "print(numbers)"
      ]
    },
    {
      "cell_type": "code",
      "execution_count": null,
      "metadata": {
        "id": "_KjnXHrtTu8-"
      },
      "outputs": [],
      "source": [
        "# Trying to print a variable that has not been previously defined results in an error:\n",
        "print(food)"
      ]
    },
    {
      "cell_type": "code",
      "execution_count": null,
      "metadata": {
        "id": "SI6-pOBeTu8-"
      },
      "outputs": [],
      "source": [
        "#In Jupyter, we can show a variable's a value just by typing its name\n",
        "height"
      ]
    },
    {
      "cell_type": "code",
      "execution_count": null,
      "metadata": {
        "id": "8hFeWKB3Tu8_"
      },
      "outputs": [],
      "source": [
        "# However, this will only show the last variable\n",
        "height\n",
        "country"
      ]
    },
    {
      "cell_type": "code",
      "execution_count": null,
      "metadata": {
        "id": "7W8yENnGTu9A"
      },
      "outputs": [],
      "source": [
        "# We can show them both if we use print\n",
        "print(height)\n",
        "print(country)"
      ]
    },
    {
      "cell_type": "markdown",
      "metadata": {
        "id": "2eT82RPXTu9A"
      },
      "source": [
        "#### Input function\n",
        "Prompts the user to enter a value and saves that value to a variable<br>\n",
        "The prompt is just a string such as 'Enter a number' or 'Choose an option', etc"
      ]
    },
    {
      "cell_type": "code",
      "execution_count": null,
      "metadata": {
        "id": "b2SqLWDnTu9O"
      },
      "outputs": [],
      "source": [
        "# This code asks the user for his/her age\n",
        "age = input('Please enter your age: ')"
      ]
    },
    {
      "cell_type": "code",
      "execution_count": null,
      "metadata": {
        "id": "BoE1AeXlTu9P"
      },
      "outputs": [],
      "source": [
        "print(age)"
      ]
    },
    {
      "cell_type": "code",
      "execution_count": null,
      "metadata": {
        "id": "OXCysXUrTu9Q"
      },
      "outputs": [],
      "source": [
        "# Always remember that input saves whatever the user enters as a string\n",
        "type(age)"
      ]
    },
    {
      "cell_type": "code",
      "execution_count": null,
      "metadata": {
        "id": "_pBy6sPhTu9Q"
      },
      "outputs": [],
      "source": [
        "# If we want to use it as a number, we should convert it to int or float\n",
        "age = int(age)\n",
        "print(age)\n",
        "print(type(age))"
      ]
    },
    {
      "cell_type": "code",
      "execution_count": null,
      "metadata": {
        "id": "ZTNJ9LyrTu9R"
      },
      "outputs": [],
      "source": [
        "age = float(age)\n",
        "print(age)\n",
        "print(type(age))"
      ]
    },
    {
      "cell_type": "markdown",
      "metadata": {
        "id": "6ys0KGXlTu9R"
      },
      "source": [
        "### Numeric operations"
      ]
    },
    {
      "cell_type": "code",
      "execution_count": null,
      "metadata": {
        "id": "BggCTq9WTu9R"
      },
      "outputs": [],
      "source": [
        "# Addition\n",
        "sum1 = 5 + 10\n",
        "print(sum1)\n",
        "\n",
        "number1, number2 = 3, 4\n",
        "sum2 = number1 + number2\n",
        "print(sum2)"
      ]
    },
    {
      "cell_type": "code",
      "execution_count": null,
      "metadata": {
        "id": "M3h4cxmxTu9S"
      },
      "outputs": [],
      "source": [
        "# Substraction\n",
        "example1 = 13 - 10\n",
        "print(example1)\n",
        "\n",
        "# Multiplication\n",
        "example2 = 6 * 7\n",
        "print(example2)\n",
        "\n",
        "# Division\n",
        "example3 = 14 / 3\n",
        "print(example3)\n",
        "\n",
        "example4 = 10 / 2\n",
        "print(example4)\n",
        "\n",
        "# Floor Division\n",
        "example5 = 14 // 3\n",
        "print(example5)\n",
        "\n",
        "# Modulus\n",
        "example6 = 14 % 3\n",
        "print(example6)\n",
        "\n",
        "#Power\n",
        "example7 = 2**4\n",
        "print(example7)"
      ]
    },
    {
      "cell_type": "code",
      "execution_count": null,
      "metadata": {
        "id": "abiSiLurTu9S"
      },
      "outputs": [],
      "source": [
        "# Trying to divide by zero results in an error:\n",
        "print(10 / 0)"
      ]
    },
    {
      "cell_type": "markdown",
      "metadata": {
        "id": "h1FeMDBxTu9T"
      },
      "source": [
        "#### Precedence of Python Operators\n",
        "()<br>\n",
        "**<br>\n",
        "*, /, //, %<br>\n",
        "+, -<br>\n"
      ]
    },
    {
      "cell_type": "markdown",
      "metadata": {
        "id": "Nx9iJQJfTu9T"
      },
      "source": [
        "### Deeper look into algorithms, conditions and loops"
      ]
    },
    {
      "cell_type": "code",
      "execution_count": null,
      "metadata": {
        "id": "h-FeW4NpTu9T"
      },
      "outputs": [],
      "source": [
        "# Receive a number and tell if it’s odd or even\n"
      ]
    },
    {
      "cell_type": "code",
      "execution_count": null,
      "metadata": {
        "id": "XML73bohTu9U"
      },
      "outputs": [],
      "source": [
        "# Receive an unknown amount of numbers and return their average\n"
      ]
    },
    {
      "cell_type": "code",
      "execution_count": null,
      "metadata": {
        "id": "eFtHEOMZTu9f"
      },
      "outputs": [],
      "source": [
        "# Receive a known amount of numbers and return their average\n"
      ]
    },
    {
      "cell_type": "code",
      "execution_count": null,
      "metadata": {
        "id": "yYjo4esDTu9g"
      },
      "outputs": [],
      "source": [
        "# Receive a number and tell if it’s prime or not\n"
      ]
    },
    {
      "cell_type": "markdown",
      "metadata": {
        "id": "YM4uPvWCTu9g"
      },
      "source": [
        "## Next Session..."
      ]
    },
    {
      "cell_type": "code",
      "execution_count": null,
      "metadata": {
        "id": "-cvSM4CMTu9g"
      },
      "outputs": [],
      "source": [
        "# 1. Create random X, Y and Z integers and calculate the following:\n",
        "# Sum of all three\n",
        "# Average of all three\n",
        "# (X + Y) * Z\n",
        "# Z**2 % 3\n",
        "# X / Z + Y\n"
      ]
    },
    {
      "cell_type": "code",
      "execution_count": null,
      "metadata": {
        "id": "rD5DLLemTu9h"
      },
      "outputs": [],
      "source": [
        "# 2. Repeat the last exercise with X, Y and Z entered by the user\n"
      ]
    },
    {
      "cell_type": "code",
      "execution_count": null,
      "metadata": {
        "id": "LPj4eCikTu9i"
      },
      "outputs": [],
      "source": [
        "# 3. Iran uses a grading system from 0-20 while USA uses GPA (0-4).\n",
        "# Write a program that asks an Iranian student his grade and outputs his GPA.\n"
      ]
    },
    {
      "cell_type": "code",
      "execution_count": null,
      "metadata": {
        "id": "m2ghna82Tu9o"
      },
      "outputs": [],
      "source": [
        "# 4. What does the following code do?\n",
        "# number = 2 + number\n"
      ]
    },
    {
      "cell_type": "markdown",
      "metadata": {
        "id": "IY-Pt_vATu9p"
      },
      "source": [
        "## Questions?\n",
        "See you in the next session!"
      ]
    },
    {
      "cell_type": "markdown",
      "metadata": {
        "id": "9p7Mp8ulTu9p"
      },
      "source": [
        "## Extra reading: Markdowns\n",
        "\n",
        "You can type text (called \"Markdown\") into cells instead of code <br>\n",
        "You can even insert images and mathematical formulas!<br>\n",
        "<br>\n",
        "To select the Markdown type, use the drop-down menu on the top of the page or press M while in command mode<br>\n",
        "You can press Y in command mode to switch back to code. Code is the default option for new cells<br>\n",
        "After you write your markdown in edit mode, you need to run the cell to see the correct text"
      ]
    },
    {
      "cell_type": "markdown",
      "metadata": {
        "id": "35aFdKSdTu9p"
      },
      "source": [
        "Run this markdown cell to see how it works"
      ]
    },
    {
      "cell_type": "markdown",
      "metadata": {
        "id": "AUyTSohUTu9q"
      },
      "source": [
        "#### Headings\n",
        "You can use # at the start of the line to create a heading.<br>Headings get smaller when you use more #:\n",
        "# This is a heading using one hashtag\n",
        "## This is a heading using two hashtags\n",
        "### This is a heading using three hashtags\n",
        "#### This is a heading using four hashtags\n",
        "##### This is a heading using five hashtags"
      ]
    },
    {
      "cell_type": "markdown",
      "metadata": {
        "id": "dXQ7ZtvQTu9q"
      },
      "source": [
        "#### Bullet points\n",
        "You can use * to create bullet points<br>\n",
        "* bullet 1\n",
        "* bullet 2"
      ]
    },
    {
      "cell_type": "markdown",
      "metadata": {
        "id": "TwpIH41ETu9q"
      },
      "source": [
        "#### Creating new lines\n",
        "The thing is that you cannot use Enter to create a new line in markdowns.\n",
        "I have just pressed enter but you we're still in the same line!"
      ]
    },
    {
      "cell_type": "code",
      "execution_count": null,
      "metadata": {
        "id": "sOKU9XoDTu9r"
      },
      "outputs": [],
      "source": [
        "# What you need to do is to use a special character: <br>"
      ]
    },
    {
      "cell_type": "markdown",
      "metadata": {
        "id": "BRlGp1xtTu9s"
      },
      "source": [
        "Use this character as you would use the Enter key<br>And that's how you create a new line!"
      ]
    },
    {
      "cell_type": "markdown",
      "metadata": {
        "id": "mnB0t3WzTu9s"
      },
      "source": [
        "Or you can put two spaces at the end of the line then press enter  \n",
        "Putting an empty line in between also works\n",
        "\n",
        "Refer to this cell's edit mode to see how it's done!"
      ]
    },
    {
      "cell_type": "markdown",
      "metadata": {
        "id": "t62icGJpTu9y"
      },
      "source": [
        "#### Text formats\n",
        "You can use special characters to make your text bold, italic or underlined:"
      ]
    },
    {
      "cell_type": "code",
      "execution_count": null,
      "metadata": {
        "id": "q-ihgHhvTu9z"
      },
      "outputs": [],
      "source": [
        "# Use <b> for bold\n",
        "# Use <i> for italic\n",
        "# Use <u> for underline\n",
        "# Use <strike> for strikethrough\n",
        "# Use a second character with a preceding / to tell Jupyter where to stop:\n",
        "# <b>......</b>"
      ]
    },
    {
      "cell_type": "markdown",
      "metadata": {
        "id": "Q76KOBCjTu9z"
      },
      "source": [
        "<b>This is bold</b><br>\n",
        "<i>This is italic</i><br>\n",
        "<u>This is underlined</u><br>\n",
        "<strike>This is striked through</strike><br>\n",
        "<b><i><u>This is bold italic and underlined</b></i></u>"
      ]
    },
    {
      "cell_type": "markdown",
      "metadata": {
        "id": "jOvtmCqvTu9z"
      },
      "source": [
        "#### Images\n",
        "You can insert images into markdown cells using: Edit -> Insert Image<br>\n",
        "Or drag and drop<br>\n",
        "Or copy and paste\n",
        "Try to use all three methods in the cells below"
      ]
    },
    {
      "cell_type": "code",
      "execution_count": null,
      "metadata": {
        "id": "sCcNgBBRTu90"
      },
      "outputs": [],
      "source": []
    },
    {
      "cell_type": "code",
      "execution_count": null,
      "metadata": {
        "id": "XhBQ-S8CTu90"
      },
      "outputs": [],
      "source": []
    },
    {
      "cell_type": "code",
      "execution_count": null,
      "metadata": {
        "id": "Vo2wiSegTu90"
      },
      "outputs": [],
      "source": []
    },
    {
      "cell_type": "markdown",
      "metadata": {
        "id": "TMx-q0eqTu91"
      },
      "source": [
        "#### Using URLs\n",
        "You can just type in the url: www.google.com or http://yahoo.com  \n",
        "Note that typing google.com won't work  \n",
        "If you want to have a text that refere to the url, put the text into brackets [] and put the url into parenthesis (). Check out the last line to see an example!\n",
        "\n",
        "\n",
        "We're not going into details about showing mathematical formulas in Jupyter.<br>\n",
        "If you are interested, refer [here](https://towardsdatascience.com/write-markdown-latex-in-the-jupyter-notebook-10985edb91fd) for a comprehensive guide on Jupyter Markdowns."
      ]
    }
  ],
  "metadata": {
    "kernelspec": {
      "display_name": "Python 3",
      "language": "python",
      "name": "python3"
    },
    "language_info": {
      "codemirror_mode": {
        "name": "ipython",
        "version": 3
      },
      "file_extension": ".py",
      "mimetype": "text/x-python",
      "name": "python",
      "nbconvert_exporter": "python",
      "pygments_lexer": "ipython3",
      "version": "3.8.5"
    },
    "colab": {
      "provenance": [],
      "include_colab_link": true
    }
  },
  "nbformat": 4,
  "nbformat_minor": 0
}