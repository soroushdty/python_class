{
  "cells": [
    {
      "cell_type": "markdown",
      "metadata": {
        "id": "view-in-github",
        "colab_type": "text"
      },
      "source": [
        "<a href=\"https://colab.research.google.com/github/soroushdty/python_class/blob/main/Session_3.ipynb\" target=\"_parent\"><img src=\"https://colab.research.google.com/assets/colab-badge.svg\" alt=\"Open In Colab\"/></a>"
      ]
    },
    {
      "cell_type": "markdown",
      "metadata": {
        "id": "ay81HiboRmyY"
      },
      "source": [
        "# Session 3: Booleans and conditionals"
      ]
    },
    {
      "cell_type": "markdown",
      "metadata": {
        "id": "XbJEspDERmye"
      },
      "source": [
        "## 3.1. Control Statements\n",
        "* The usual flow of code execution in Python: line by line (<b>sequential execution</b>)\n",
        "* Occasionally, you need codes to execute in a non-sequential order (<b>transfer of control</b>)\n",
        "* You achieve this using <b>control statements</b>\n",
        "* Control statements in python consist of <b>loops</b> (<b>for</b> , <b>while</b>) and <b>conditions</b> (<b>if</b>)"
      ]
    },
    {
      "cell_type": "markdown",
      "metadata": {
        "id": "dlKvmAxBRmyh"
      },
      "source": [
        "## 3.2. The Boolean Type (bool)\n",
        "* True or False (The first letter is always capital!)"
      ]
    },
    {
      "cell_type": "code",
      "execution_count": null,
      "metadata": {
        "id": "1-S1tFTaRmyh"
      },
      "outputs": [],
      "source": [
        "print(type(True))"
      ]
    },
    {
      "cell_type": "code",
      "execution_count": null,
      "metadata": {
        "id": "itVbkf1IRmyk"
      },
      "outputs": [],
      "source": [
        "print(type(false))  # Wrong syntax"
      ]
    },
    {
      "cell_type": "markdown",
      "metadata": {
        "id": "6UzyzeyXRmyl"
      },
      "source": [
        "### 3.2.1 Comparison Operators\n",
        "* Expressions that can be <b>evaluated</b> to either True or False are also booleans\n",
        "* Comparison operators are evaluated to booleans\n",
        "* \\> (greater than) &emsp; \\< (less than)\n",
        "* == (equal to) &emsp; != (not equal to)\n",
        "* \\>= (greater or equal to) &emsp; \\<= (less or equal to)\n",
        "* Remember that the '=' sign is always on the right"
      ]
    },
    {
      "cell_type": "code",
      "execution_count": null,
      "metadata": {
        "id": "ul23Mu5aRmyn"
      },
      "outputs": [],
      "source": [
        "print(5 > 2)\n",
        "\n",
        "print(6 + 5 == 10)\n",
        "\n",
        "print(2**3 != 8)\n",
        "\n",
        "print(12+7 >= (13*2) - 8)"
      ]
    },
    {
      "cell_type": "code",
      "execution_count": null,
      "metadata": {
        "id": "TzXHN8-FRmyo"
      },
      "outputs": [],
      "source": [
        "# You can also chain operators together\n",
        "print(10 < 15 < 20)\n",
        "print(27 >= 2+6 == 8)"
      ]
    },
    {
      "cell_type": "markdown",
      "metadata": {
        "id": "ywmbvFeIRmyp"
      },
      "source": [
        "### 3.2.2. Logical Operators\n",
        "* Combine conditional statements\n",
        "* and : Returns True if both statements are true\n",
        "* or : Returns True if any of statements are true\n",
        "* not : Reverse the result\n",
        "\n",
        "<br>\n",
        "\n",
        "#### <center> <u>and</u> operator on two statements</center>\n",
        "\n",
        "| Statement \\#1 | Statement \\#2 | Result |\n",
        "| :- | :- | :- |\n",
        "| True | True | <b>True</b>|\n",
        "| True | False | <b>False</b>|\n",
        "| False | True | <b>False</b>|\n",
        "| False | False | <b>False</b>|\n",
        "\n",
        "<br>\n",
        "\n",
        "#### <center> <u>or</u> operator on two statements</center>\n",
        "\n",
        "| Statement \\#1 | Statement \\#2 | Result |\n",
        "| :- | :- | :- |\n",
        "| True | True | <b>True</b>|\n",
        "| True | False | <b>True</b>|\n",
        "| False | True | <b>True</b>|\n",
        "| False | False | <b>False</b>|\n",
        "\n",
        "<br>\n",
        "\n",
        "#### <center> <u>not</u> operator on one statement</center>\n",
        "\n",
        "| Statement | Result |\n",
        "| :- | :- |\n",
        "| True | <b>False</b>|\n",
        "| False | <b>True</b>|\n",
        "\n",
        "<br>\n",
        "Note that 'and' and 'or' operate on two statements while 'not' operate on one statement<br>  \n",
        "Therefore, 'and' and 'or' are called <b>binary</b> operators while 'not' is called <b>unary</b> operator"
      ]
    },
    {
      "cell_type": "code",
      "execution_count": null,
      "metadata": {
        "id": "Yc1y715LRmyr"
      },
      "outputs": [],
      "source": [
        "a, b = 5, 10\n",
        "print(a < b and a + b == 14)  # True and False\n",
        "print(a+10 >= 20 or b / 2 == 5)  # False or True\n",
        "print(not b**a > 1000)  # not True"
      ]
    },
    {
      "cell_type": "code",
      "execution_count": null,
      "metadata": {
        "id": "AtR-Riq1Rmys"
      },
      "outputs": [],
      "source": [
        "# You can also chain operators together\n",
        "\n",
        "print(not 12 == 13 and 5 + 4 > 2)  # not False and True -> True and True\n",
        "# 'not' has higher precedence than 'and' or 'or', therefore is evaluated first\n",
        "\n",
        "print(2**10 == 1024 or a == b and 58 % 2 == 1)  # True or False and False -> True or False\n",
        "# 'and' has higher precedence than 'or', so it is evaluated first\n"
      ]
    },
    {
      "cell_type": "markdown",
      "metadata": {
        "id": "cdC55abVRmyx"
      },
      "source": [
        "### 3.2.3. Update on operator precedence in Python\n",
        "\n",
        "This table lists the operator we know until now, from highest to lowest precedence:\n",
        "<br>\n",
        "\n",
        "| Operator | Description |\n",
        "| :- | :- |\n",
        "| ( ) | Any expression in parenthesis |\n",
        "| ** | Exponentiation |\n",
        "| *, /, //, % | Multiplication, division, floor division, remainder |\n",
        "| +, - | Addition and subtraction |\n",
        "| <, <=, >, >=, !=, == | Comparison operators |\n",
        "| not | Boolean NOT |\n",
        "| and | Boolean AND |\n",
        "| or | Boolean OR |\n",
        "\n",
        "<br>\n",
        "\n",
        "Remember that operators of the same precedence are evaluated from left to right"
      ]
    },
    {
      "cell_type": "markdown",
      "metadata": {
        "id": "CfJjJqQKRmyz"
      },
      "source": [
        "## 3.3. Conditions (Selection Statements)\n",
        "* Execute code based on a condition, i.e. an expression that evaluates to a bool\n",
        "* The code will execute only if the condition is True\n",
        "* Keyword in Python: <b>if</b>\n",
        "* More commonly called <b>if statement</b>"
      ]
    },
    {
      "cell_type": "code",
      "execution_count": null,
      "metadata": {
        "id": "NskqidUvRmy0"
      },
      "outputs": [],
      "source": [
        "if 10 + 10 == 20: # True\n",
        "    print('10 plus 10 equals 20')  # This code will execute\n",
        "\n",
        "if 13 + 5 == 100: # False\n",
        "    print('13 plus 5 equals 100')  #  This code will not execute"
      ]
    },
    {
      "cell_type": "markdown",
      "metadata": {
        "id": "KYtQ3b80Rmy1"
      },
      "source": [
        "If statements in Python have a specific synatx that you must follow<br>\n",
        "Otherwise, you'll get an error"
      ]
    },
    {
      "cell_type": "code",
      "execution_count": null,
      "metadata": {
        "id": "TBqzFIqnRmy2"
      },
      "outputs": [],
      "source": [
        "if 5>2:  # Use a ':' (colon) after the condition\n",
        "    print('5 is greater than 2')  # The next line (actions to to be done) is always indented\n",
        "\n",
        "# Most Python IDEs create automatic indentations for you when needed\n",
        "# If you ever wanted to do it yourself, use 4 spaces for each level of indentation"
      ]
    },
    {
      "cell_type": "code",
      "execution_count": null,
      "metadata": {
        "id": "S55Wcl06Rmy3"
      },
      "outputs": [],
      "source": [
        "if 5>2:\n",
        "    if 12>7:  # One level of indentation (four spaces)\n",
        "        print('Correct')  # Two levels of indentation (eight spaces)"
      ]
    },
    {
      "cell_type": "markdown",
      "metadata": {
        "id": "oAjjUodFRmy4"
      },
      "source": [
        "You will raise an error if:\n",
        "* You miss the colon at the end of if statement\n",
        "* You don't use proper indentations\n",
        "* You use '=' instead of '=='"
      ]
    },
    {
      "cell_type": "code",
      "execution_count": null,
      "metadata": {
        "id": "Sisd3OTBRmy4"
      },
      "outputs": [],
      "source": [
        "if 10 == 5 * 2  # This line will raise a syntax error\n",
        "    print('10 is equal to 5 times 2')"
      ]
    },
    {
      "cell_type": "code",
      "execution_count": null,
      "metadata": {
        "id": "QW5EusAFRmy5"
      },
      "outputs": [],
      "source": [
        "if 10 == 5 * 2:\n",
        "print('10 is equal to 5 times 2')  # This line will raise an indentation error"
      ]
    },
    {
      "cell_type": "code",
      "execution_count": null,
      "metadata": {
        "id": "09hseAznRmy5"
      },
      "outputs": [],
      "source": [
        "if 10 = 5 * 2:  # This line will raise a syntax error\n",
        "    print('10 is equal to 5 times 2')"
      ]
    },
    {
      "cell_type": "code",
      "execution_count": null,
      "metadata": {
        "id": "xXbLhAK3Rmy6"
      },
      "outputs": [],
      "source": [
        "if 5 == 12:\n",
        "    print('5 equals 12')\n",
        "# This two lines is called a \"suite\"\n",
        "\n",
        "# This statement is outside the if suite and will always execute\n",
        "print('This is outside the previous if suite')"
      ]
    },
    {
      "cell_type": "code",
      "execution_count": null,
      "metadata": {
        "id": "L_atwQTTRmy6"
      },
      "outputs": [],
      "source": [
        "if 5>2:\n",
        "    if 12>7:  # This is called a nested if statement\n",
        "        print('Correct')\n",
        "\n",
        "# Note that nested if statement is rarely used as you can get the same result using 'and' operator\n",
        "if 5>2 and 12>7:\n",
        "    print('Correct')"
      ]
    },
    {
      "cell_type": "code",
      "execution_count": null,
      "metadata": {
        "id": "bJGDqpzrRmy7"
      },
      "outputs": [],
      "source": [
        "if not 5 + 3 == 10 or 13 % 2 < 0 :\n",
        "    print('Executed!')"
      ]
    },
    {
      "cell_type": "code",
      "execution_count": null,
      "metadata": {
        "id": "IcIXtdjcRmy8"
      },
      "outputs": [],
      "source": [
        "# You can specify different conditions using elif (else if) keyword:\n",
        "if 100 == 10 * 5:\n",
        "    print('100 is equal to 10 times 5')\n",
        "elif 100 == 10 * 7:\n",
        "    print('100 is equal to 10 times 7')\n",
        "elif 100 == 10 * 10:\n",
        "    print('100 is equal to 10 times 10')"
      ]
    },
    {
      "cell_type": "markdown",
      "metadata": {
        "id": "0__RiiRzRmy8"
      },
      "source": [
        "By looking at the previous cell, we can understand that:\n",
        "1. An if suite always begins with an 'if'\n",
        "2. It can have multiple 'elif' statements\n",
        "3. 'elif' has the same indentation as 'if' and works similarly"
      ]
    },
    {
      "cell_type": "code",
      "execution_count": null,
      "metadata": {
        "id": "aabuB8KCRmy8"
      },
      "outputs": [],
      "source": [
        "# You can use 'else' keyword to specify what to do in case all previous statements were False\n",
        "\n",
        "number = int(input('Please enter a number between 1-10: '))  # No input control for simplicity\n",
        "if number == 1:\n",
        "    print('You entered 1')\n",
        "elif number == 2:\n",
        "    print('You entered 2')\n",
        "elif number == 3:\n",
        "    print('You entered 3')\n",
        "elif number == 4:\n",
        "    print('You entered 4')\n",
        "else:\n",
        "    print('You entered a number greater than 4')\n",
        "\n",
        "# Note that the else statement does not have a condition in front of it"
      ]
    },
    {
      "cell_type": "code",
      "execution_count": null,
      "metadata": {
        "id": "yGi_lrWpRmy-"
      },
      "outputs": [],
      "source": [
        "# Remember that 'elif' and 'else' are optional\n",
        "# But the 'if' statement is necessary\n",
        "\n",
        "if 12 % 3 == 0:  # This suite only has one 'if'\n",
        "    print('12 is divisible by 3')\n",
        "\n",
        "if 14 + 6 != 20:  # This suite has an 'if' and an 'else'\n",
        "    print('14 plus 6 is not 20')\n",
        "else:\n",
        "    print('14 plus 6 is 20')\n",
        "\n",
        "if 2 - 11 <= 0 and 3**2 == 8:  # This suite has an 'if' and an 'elif'\n",
        "    print('2 minus 11 is less or equal to 0 AND 3 to the power of 2 is 8')\n",
        "elif 2 - 11 <= 0 or 3**2 == 8:\n",
        "    print('2 minus 11 is less or equal to 0 OR 3 to the power of 2 is 8')\n",
        "# Note that use else in the suite above results in the same output\n",
        "# However, this is not a rule"
      ]
    },
    {
      "cell_type": "code",
      "execution_count": null,
      "metadata": {
        "id": "udFLSkd_Rmy_"
      },
      "outputs": [],
      "source": [
        "# It is important to know that the if suite will execute as soon as it encounters a True statement\n",
        "# It does not care if the later lines are True\n",
        "\n",
        "if 12**0 == 12:  # This is False and will not execute\n",
        "    print('12 to the power of 0 is 12')\n",
        "elif 12**1 == 12:  # This is True and will execute\n",
        "    print('12 to the power of 1 is 12')\n",
        "elif 12**2 == 144:  # This is also True but will not execute\n",
        "    print('12 to the power of 2 is 144')"
      ]
    },
    {
      "cell_type": "code",
      "execution_count": null,
      "metadata": {
        "id": "krP6l5F3RmzA"
      },
      "outputs": [],
      "source": [
        "# Remember that there can be multiple expressions after each conditional statement\n",
        "\n",
        "number1 = int(input('Please enter number 1: '))\n",
        "number2 = int(input('Please enter number 2: '))\n",
        "\n",
        "# Again, no input control for simplicity\n",
        "if number1 > number2:\n",
        "    print(number1)\n",
        "    print('Number 1 is higher than number 2')\n",
        "elif number1 < number2:\n",
        "    print(number2)\n",
        "    print('Number 2 is higher than number 1')\n",
        "else:\n",
        "    print(number1)\n",
        "    print('Number 1 is equal to number 2')"
      ]
    },
    {
      "cell_type": "markdown",
      "metadata": {
        "id": "05lUxybBRmzA"
      },
      "source": [
        "#### A note about expressions outside the conditional suite\n",
        "Remember that expressions outside the if suite will always execute regardless of the suite execution  \n",
        "Therefore, if you accidentally put an expression outside the suite<br>\n",
        "that is meant to execute depending on a condition, you will not get an error<br>\n",
        "But you will get wrong results<br>\n",
        "This is called a logic error<br>\n",
        "Logic errors are much harder to find than other error<br>\n",
        "Because they don't explicitly raise an error"
      ]
    },
    {
      "cell_type": "code",
      "execution_count": null,
      "metadata": {
        "id": "UM0B0RlgRmzB"
      },
      "outputs": [],
      "source": [
        "# This is an example of a logic error\n",
        "\n",
        "gpa = 3.4\n",
        "\n",
        "if gpa > 3.2:\n",
        "    print('You can apply to Ivy league')\n",
        "else:\n",
        "    print('You cannot apply to Ivy league')\n",
        "print('Try other universities')"
      ]
    },
    {
      "cell_type": "markdown",
      "metadata": {
        "id": "5Wt7OiP-RmzC"
      },
      "source": [
        "# Last session homeworks"
      ]
    },
    {
      "cell_type": "code",
      "execution_count": null,
      "metadata": {
        "id": "5yUZQWXTRmzD"
      },
      "outputs": [],
      "source": [
        "# Pseudocode and flowchart: Receive a number and tell if it’s odd or even\n"
      ]
    },
    {
      "cell_type": "code",
      "execution_count": null,
      "metadata": {
        "id": "EGWlDx3URmzD"
      },
      "outputs": [],
      "source": [
        "# Pseudocode and flowchart: Receive an unknown amount of numbers and return their average\n"
      ]
    },
    {
      "cell_type": "code",
      "execution_count": null,
      "metadata": {
        "id": "7Gb8HVVZRmzE"
      },
      "outputs": [],
      "source": [
        "# Pseudocode and flowchart: Receive a known amount of numbers and return their average\n"
      ]
    },
    {
      "cell_type": "code",
      "execution_count": null,
      "metadata": {
        "id": "vb2NlkwERmzF"
      },
      "outputs": [],
      "source": [
        "# Pseudocode and flowchart: Receive a number and tell if it’s prime or not\n"
      ]
    },
    {
      "cell_type": "code",
      "execution_count": null,
      "metadata": {
        "id": "mCh0LcqcRmzG"
      },
      "outputs": [],
      "source": [
        "# Create random X, Y and Z integers and calculate the following:\n",
        "\n",
        "# Sum of all three\n",
        "\n",
        "# Average of all three\n",
        "\n",
        "# (X + Y) * Z\n",
        "\n",
        "# Z**2 % 3\n",
        "\n",
        "# X / Z + Y\n"
      ]
    },
    {
      "cell_type": "code",
      "execution_count": null,
      "metadata": {
        "id": "Fj8wQYDpRmzH"
      },
      "outputs": [],
      "source": [
        "# Repeat the last exercise with X, Y and Z entered by the user\n"
      ]
    },
    {
      "cell_type": "code",
      "execution_count": null,
      "metadata": {
        "id": "MsxOHvZ1RmzH"
      },
      "outputs": [],
      "source": [
        "# Iran uses a grading system from 0-20 while USA uses GPA (0-4).\n",
        "# Write a program that asks an Iranian student his grade and outputs his GPA.\n"
      ]
    },
    {
      "cell_type": "code",
      "execution_count": null,
      "metadata": {
        "id": "sJVErgYLRmzI"
      },
      "outputs": [],
      "source": [
        "# 4. What does the following code do?\n",
        "# number = 2 + number\n",
        "\n",
        "# Is there a better way to rewrite this statement in Python?"
      ]
    },
    {
      "cell_type": "markdown",
      "metadata": {
        "id": "UCn4WaOxRmzK"
      },
      "source": [
        "# This session homeworks"
      ]
    },
    {
      "cell_type": "code",
      "execution_count": null,
      "metadata": {
        "id": "IEK3zekKRmzL"
      },
      "outputs": [],
      "source": [
        "# 1. Evaluate each of the following expressions and determine in which order are the subexpressions evaluated\n",
        "# Print the results to verify your evaluations\n",
        "\n",
        "5 != 5.0                                                 # (a)\n",
        "(4 + 3) * 5                                              # (b)\n",
        "5 - 2 * 3 ** 4                                           # (c)\n",
        "not(9 - 17 **2 > 3) or (25 != 2**5 and 44 % 4 + 1 == 3)  # (d)\n",
        "176 % 2 >= 0 and 4**2 != 2**4 or not(2+2 <= 2*2 <= 2**2) # (e)"
      ]
    },
    {
      "cell_type": "code",
      "execution_count": null,
      "metadata": {
        "id": "6m96Ya0NRmzM"
      },
      "outputs": [],
      "source": [
        "# 2. Does the following code result in an error?\n",
        "# Run it to evaluate your answer. Did you get what you expected? Why or why not?\n",
        "\n",
        "3**2 > 2**3 or 25 / 0"
      ]
    },
    {
      "cell_type": "code",
      "execution_count": null,
      "metadata": {
        "id": "R4nVa1vxRmzT"
      },
      "outputs": [],
      "source": [
        "# 3. Write a program that receives a number and tell if it’s odd or even\n"
      ]
    },
    {
      "cell_type": "code",
      "execution_count": null,
      "metadata": {
        "id": "7kQVhfAVRmzT"
      },
      "outputs": [],
      "source": [
        "# 4. Write a program that asks the user for two number and compares them\n",
        "# Is there more than one way to write this code?\n"
      ]
    },
    {
      "cell_type": "code",
      "execution_count": null,
      "metadata": {
        "id": "MCurUH8ARmzU"
      },
      "outputs": [],
      "source": [
        "# 5. Write a program that inputs a number from 1-5 and prints that number\n",
        "# Any other input should print: \"WRONG INPUT!\"\n"
      ]
    },
    {
      "cell_type": "code",
      "execution_count": null,
      "metadata": {
        "id": "_vIiIEN7RmzV"
      },
      "outputs": [],
      "source": [
        "# 6. Ask user for a number. If the number is less than 21, print the absolute difference between n and 21.\n",
        "# If the number is more than or equal to 21, print double the absolute difference.\n"
      ]
    },
    {
      "cell_type": "code",
      "execution_count": null,
      "metadata": {
        "id": "mguvQcAqRmzZ"
      },
      "outputs": [],
      "source": [
        "# 7. Ask user for a number and a setting ('A' or 'B').\n",
        "# In setting A, print True if the number is between 1-10 (inclusive) and print False otherwise.\n",
        "# In setting B, print True if the number is less or equal to 1, or greater or equal to 10 and print False otherwise.\n"
      ]
    },
    {
      "cell_type": "code",
      "execution_count": null,
      "metadata": {
        "id": "6RYMEIG8Rmza"
      },
      "outputs": [],
      "source": [
        "# 8. Ask the user for 2 integers.\n",
        "# Print True if one if them is 10 or if their sum is 10 and print False otherwise.\n"
      ]
    },
    {
      "cell_type": "code",
      "execution_count": null,
      "metadata": {
        "id": "ks_xKStZRmzb"
      },
      "outputs": [],
      "source": [
        "# 9. Ask the user for 2 integers and print their sum if they are not equal.\n",
        "# If they are equal, ask the user to enter a message and print that message to the screen.\n"
      ]
    }
  ],
  "metadata": {
    "kernelspec": {
      "display_name": "Python 3",
      "language": "python",
      "name": "python3"
    },
    "language_info": {
      "codemirror_mode": {
        "name": "ipython",
        "version": 3
      },
      "file_extension": ".py",
      "mimetype": "text/x-python",
      "name": "python",
      "nbconvert_exporter": "python",
      "pygments_lexer": "ipython3",
      "version": "3.8.5"
    },
    "vscode": {
      "interpreter": {
        "hash": "ad2bdc8ecc057115af97d19610ffacc2b4e99fae6737bb82f5d7fb13d2f2c186"
      }
    },
    "colab": {
      "provenance": [],
      "include_colab_link": true
    }
  },
  "nbformat": 4,
  "nbformat_minor": 0
}